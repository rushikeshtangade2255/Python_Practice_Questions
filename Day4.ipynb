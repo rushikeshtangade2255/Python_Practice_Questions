{
 "cells": [
  {
   "cell_type": "code",
   "execution_count": 1,
   "id": "10cecfb5-5759-49c9-89fe-176468c4f3e3",
   "metadata": {},
   "outputs": [
    {
     "name": "stdin",
     "output_type": "stream",
     "text": [
      "Enter the number: 2\n"
     ]
    },
    {
     "name": "stdout",
     "output_type": "stream",
     "text": [
      "2.0 kilo metre miles will be 1.24 miles\n"
     ]
    }
   ],
   "source": [
    "#Python Program to Convert Kilometers to Miles \n",
    "km = float(input(\"Enter the number:\"))\n",
    "\n",
    "miles = (0.62)*km\n",
    "\n",
    "print(km,'kilo metre miles will be',miles,'miles')\n",
    "\n"
   ]
  },
  {
   "cell_type": "code",
   "execution_count": 3,
   "id": "a513780a-24a6-4c87-99cd-ba204e6ef522",
   "metadata": {},
   "outputs": [
    {
     "name": "stdin",
     "output_type": "stream",
     "text": [
      "Enter the number:  3\n"
     ]
    },
    {
     "name": "stdout",
     "output_type": "stream",
     "text": [
      "Number is positive\n"
     ]
    }
   ],
   "source": [
    "num = int(input(\"Enter the number: \"))  #\n",
    "\n",
    "if num > 0:\n",
    "    print(\"Number is positive\")\n",
    "elif num == 0:\n",
    "    print(\"Number is 0\")\n",
    "else:\n",
    "    print(\"Number is negative\") \n"
   ]
  },
  {
   "cell_type": "code",
   "execution_count": null,
   "id": "3f992bc2-c8ee-4d46-ace9-ea20df07dd03",
   "metadata": {},
   "outputs": [],
   "source": []
  }
 ],
 "metadata": {
  "kernelspec": {
   "display_name": "Python 3 (ipykernel)",
   "language": "python",
   "name": "python3"
  },
  "language_info": {
   "codemirror_mode": {
    "name": "ipython",
    "version": 3
   },
   "file_extension": ".py",
   "mimetype": "text/x-python",
   "name": "python",
   "nbconvert_exporter": "python",
   "pygments_lexer": "ipython3",
   "version": "3.11.7"
  }
 },
 "nbformat": 4,
 "nbformat_minor": 5
}
