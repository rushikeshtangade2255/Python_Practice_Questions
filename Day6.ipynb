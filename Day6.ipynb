{
 "cells": [
  {
   "cell_type": "code",
   "execution_count": 2,
   "id": "e2e9af04-5fc5-44bd-b7a9-69fd057d16dd",
   "metadata": {},
   "outputs": [
    {
     "name": "stdout",
     "output_type": "stream",
     "text": [
      "90  is largest number\n"
     ]
    }
   ],
   "source": [
    "#Find the Largest Among Three Numbers\n",
    "num1 = 32\n",
    "num2 = 90\n",
    "num3 = 78\n",
    "\n",
    "if num1>num2 and num1>num3:\n",
    "    print(num1,\" is the largest number\")\n",
    "elif num2 > num1 and num2> num3:\n",
    "    print(num2,\" is largest number\")\n",
    "else:\n",
    "    print(num3,\" is the largest number\")"
   ]
  },
  {
   "cell_type": "code",
   "execution_count": 6,
   "id": "72c35861-14aa-419e-9558-7624678c485e",
   "metadata": {},
   "outputs": [
    {
     "name": "stdin",
     "output_type": "stream",
     "text": [
      "Enter the three number to check largest one: 12,32,33\n"
     ]
    },
    {
     "name": "stdout",
     "output_type": "stream",
     "text": [
      "33  is the largest number\n"
     ]
    }
   ],
   "source": [
    "num1,num2,num3=map(int,input(\"Enter the three number to check largest one:\").split(','))\n",
    "if num1>num2 and num1>num3:\n",
    "    print(num1,\" is the largest number\")\n",
    "elif num2 > num1 and num2> num3:\n",
    "    print(num2,\" is largest number\")\n",
    "else:\n",
    "    print(num3,\" is the largest number\")"
   ]
  },
  {
   "cell_type": "code",
   "execution_count": 7,
   "id": "93930e50-6f87-4fc6-8a2b-0badd6499ba2",
   "metadata": {},
   "outputs": [],
   "source": []
  },
  {
   "cell_type": "code",
   "execution_count": null,
   "id": "4b9b3b19-9be3-4728-b17e-ff1a934a4fcf",
   "metadata": {},
   "outputs": [],
   "source": []
  }
 ],
 "metadata": {
  "kernelspec": {
   "display_name": "Python 3 (ipykernel)",
   "language": "python",
   "name": "python3"
  },
  "language_info": {
   "codemirror_mode": {
    "name": "ipython",
    "version": 3
   },
   "file_extension": ".py",
   "mimetype": "text/x-python",
   "name": "python",
   "nbconvert_exporter": "python",
   "pygments_lexer": "ipython3",
   "version": "3.11.7"
  }
 },
 "nbformat": 4,
 "nbformat_minor": 5
}
