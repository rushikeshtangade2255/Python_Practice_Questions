{
 "cells": [
  {
   "cell_type": "code",
   "execution_count": 8,
   "id": "e7119fb2-da62-4845-9235-cd8941f7337a",
   "metadata": {},
   "outputs": [
    {
     "name": "stdin",
     "output_type": "stream",
     "text": [
      "Enter The height of triangle: 8\n",
      "Enter the base of triangle 9\n"
     ]
    },
    {
     "name": "stdout",
     "output_type": "stream",
     "text": [
      "Area of triangle is: 14.4\n"
     ]
    }
   ],
   "source": [
    "#Area of triangle\n",
    "h = float(input('Enter The height of triangle:'))\n",
    "b =float(input('Enter the base of triangle'))\n",
    "Area = 1/5*h*b;\n",
    "Area = (a+b)*(b+c);\n",
    "print('Area of triangle is:',Area)"
   ]
  },
  {
   "cell_type": "code",
   "execution_count": 12,
   "id": "3801ce43-ae13-41d5-b826-8092a8765ae8",
   "metadata": {},
   "outputs": [
    {
     "name": "stdout",
     "output_type": "stream",
     "text": [
      "The swapped values of x is: 14 and b is: 13\n"
     ]
    }
   ],
   "source": [
    "#python program to swap two variables\n",
    "#solution1\n",
    "x = 13\n",
    "b = 14\n",
    "temp = x\n",
    "x = b\n",
    "b = temp\n",
    "print('The swapped values of x is:',x,'and b is:',b)\n"
   ]
  },
  {
   "cell_type": "code",
   "execution_count": 15,
   "id": "dbf84a00-7a85-42df-971d-5d993ecf6c75",
   "metadata": {},
   "outputs": [
    {
     "name": "stdout",
     "output_type": "stream",
     "text": [
      "The swapped values of a 65 and b is 45\n"
     ]
    }
   ],
   "source": [
    "a=45\n",
    "b=65\n",
    "a,b=b,a\n",
    "print('The swapped values of a',a,'and b is',b)"
   ]
  },
  {
   "cell_type": "code",
   "execution_count": null,
   "id": "ade30ce6-4587-481d-a592-1a0b64d4871d",
   "metadata": {},
   "outputs": [],
   "source": []
  }
 ],
 "metadata": {
  "kernelspec": {
   "display_name": "Python 3 (ipykernel)",
   "language": "python",
   "name": "python3"
  },
  "language_info": {
   "codemirror_mode": {
    "name": "ipython",
    "version": 3
   },
   "file_extension": ".py",
   "mimetype": "text/x-python",
   "name": "python",
   "nbconvert_exporter": "python",
   "pygments_lexer": "ipython3",
   "version": "3.11.7"
  }
 },
 "nbformat": 4,
 "nbformat_minor": 5
}
