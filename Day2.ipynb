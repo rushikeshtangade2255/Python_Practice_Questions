{
 "cells": [
  {
   "cell_type": "code",
   "execution_count": 10,
   "id": "3cfed246-20c3-4b3c-a678-1841a90188de",
   "metadata": {},
   "outputs": [
    {
     "name": "stdout",
     "output_type": "stream",
     "text": [
      "120\n"
     ]
    }
   ],
   "source": [
    "#3. Write a program to find the factorial of a nuber\n",
    "import math\n",
    "def factorial(n):\n",
    "   if n < 0:\n",
    "     print(\"You enter negative number\")\n",
    "   elif n == 0:\n",
    "          return 1\n",
    "   else:\n",
    "      return n * factorial(n-1)\n",
    "    \n",
    "print(factorial (5))"
   ]
  },
  {
   "cell_type": "code",
   "execution_count": 16,
   "id": "eba09f57-0677-49ae-8294-6a9d7e4e7561",
   "metadata": {},
   "outputs": [
    {
     "data": {
      "text/plain": [
       "'String is palindrome'"
      ]
     },
     "execution_count": 16,
     "metadata": {},
     "output_type": "execute_result"
    }
   ],
   "source": [
    "#4. Write a program to check if a string is a palindrome\n",
    "def palindrome(n):\n",
    " if n[::-1]==n:\n",
    "     return \"Name is palindrome\"\n",
    " else:\n",
    "     return \"Name is not palindrome\"\n",
    "palindrome(\"radar\")"
   ]
  },
  {
   "cell_type": "code",
   "execution_count": null,
   "id": "203ea34a-195b-4755-851d-87a5a2748dc1",
   "metadata": {},
   "outputs": [],
   "source": []
  }
 ],
 "metadata": {
  "kernelspec": {
   "display_name": "Python 3 (ipykernel)",
   "language": "python",
   "name": "python3"
  },
  "language_info": {
   "codemirror_mode": {
    "name": "ipython",
    "version": 3
   },
   "file_extension": ".py",
   "mimetype": "text/x-python",
   "name": "python",
   "nbconvert_exporter": "python",
   "pygments_lexer": "ipython3",
   "version": "3.10.4"
  }
 },
 "nbformat": 4,
 "nbformat_minor": 5
}
