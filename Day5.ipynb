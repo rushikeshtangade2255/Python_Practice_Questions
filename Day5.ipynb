{
 "cells": [
  {
   "cell_type": "code",
   "execution_count": 2,
   "id": "9e44beba-7469-4b8f-99be-504155289a6b",
   "metadata": {},
   "outputs": [
    {
     "name": "stdin",
     "output_type": "stream",
     "text": [
      "Enter the number 34\n"
     ]
    },
    {
     "name": "stdout",
     "output_type": "stream",
     "text": [
      "34  number is even\n"
     ]
    }
   ],
   "source": [
    "#Is a Number Odd or Even?\n",
    "num = int(input(\"Enter the number\"))\n",
    "\n",
    "if num%2 == 0:\n",
    "    print(num,\" number is even\")\n",
    "else:\n",
    "    print(num,\"Is odd number\")"
   ]
  },
  {
   "cell_type": "code",
   "execution_count": null,
   "id": "33c69ca2-a282-419c-8466-343f0d3e7210",
   "metadata": {},
   "outputs": [],
   "source": [
    "#Python Program to Check Leap Year\n",
    "year = int(input(\"Enter a year :\"))\n",
    "if (year%400 == 0) and (year%100 == 0):\n",
    "    print(year,\"Is a leap year\")\n",
    "elif(year%4 ==0) and (year% 100 !=0):\n",
    "    print(year,\"IS a leap year\")\n",
    "else:\n",
    "    print(year,\"Is not leap year\")\n",
    "    "
   ]
  },
  {
   "cell_type": "code",
   "execution_count": null,
   "id": "ed42d027-3efc-4f1d-bc1c-cca0a7039f4e",
   "metadata": {},
   "outputs": [],
   "source": []
  }
 ],
 "metadata": {
  "kernelspec": {
   "display_name": "Python 3 (ipykernel)",
   "language": "python",
   "name": "python3"
  },
  "language_info": {
   "codemirror_mode": {
    "name": "ipython",
    "version": 3
   },
   "file_extension": ".py",
   "mimetype": "text/x-python",
   "name": "python",
   "nbconvert_exporter": "python",
   "pygments_lexer": "ipython3",
   "version": "3.11.7"
  }
 },
 "nbformat": 4,
 "nbformat_minor": 5
}
